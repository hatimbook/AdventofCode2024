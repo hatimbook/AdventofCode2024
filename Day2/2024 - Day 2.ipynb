{
 "cells": [
  {
   "cell_type": "code",
   "execution_count": null,
   "metadata": {},
   "outputs": [],
   "source": [
    "%%time\n",
    "import numpy as np\n",
    "with open('input.txt') as f:\n",
    "    temp = f.read().splitlines()\n",
    "    temp = [x.split() for x in temp]\n",
    "    \n",
    "result = sum([passrule(a) for a in temp])\n",
    "print(\"Part1 = \", result)\n",
    "\n",
    "result = sum([passrule2(a) for a in temp])\n",
    "print(\"Part2 = \", result)"
   ]
  },
  {
   "cell_type": "code",
   "execution_count": null,
   "metadata": {
    "collapsed": true
   },
   "outputs": [],
   "source": [
    "def passrule(x):\n",
    "    x = np.array(x, dtype=int)\n",
    "    return (np.all(x[1:] > x[:-1]) or np.all(x[1:] < x[:-1])) and max(np.absolute(np.diff(x))) < 4"
   ]
  },
  {
   "cell_type": "code",
   "execution_count": null,
   "metadata": {
    "collapsed": true
   },
   "outputs": [],
   "source": [
    "def passrule2(x):\n",
    "    x = np.array(x, dtype=int)\n",
    "    b = [passrule(x)]\n",
    "    b.extend([passrule(np.delete(x, i)) for i in range(len(x))])\n",
    "    return np.any(b)"
   ]
  }
 ],
 "metadata": {
  "kernelspec": {
   "display_name": "Python 3",
   "language": "python",
   "name": "python3"
  },
  "language_info": {
   "codemirror_mode": {
    "name": "ipython",
    "version": 3
   },
   "file_extension": ".py",
   "mimetype": "text/x-python",
   "name": "python",
   "nbconvert_exporter": "python",
   "pygments_lexer": "ipython3",
   "version": "3.6.2"
  }
 },
 "nbformat": 4,
 "nbformat_minor": 2
}
