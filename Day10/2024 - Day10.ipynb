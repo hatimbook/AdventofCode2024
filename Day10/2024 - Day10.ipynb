{
 "cells": [
  {
   "cell_type": "code",
   "execution_count": 1,
   "metadata": {},
   "outputs": [
    {
     "name": "stdout",
     "output_type": "stream",
     "text": [
      "Part1 =  512\n",
      "Part2 =  1045\n",
      "Wall time: 26.9 ms\n"
     ]
    }
   ],
   "source": [
    "%%time\n",
    "\n",
    "def count_nines(grid, unique):\n",
    "    if not grid:\n",
    "        return 0\n",
    "\n",
    "    h, w = len(grid), len(grid[0])\n",
    "    visited = [[False] * w for _ in range(h)]\n",
    "    directions = [(0, 1), (1, 0), (0, -1), (-1, 0)]\n",
    "\n",
    "    def dfs(x, y, current_height):\n",
    "        if not (0 <= x < h and 0 <= y < w):\n",
    "            return 0\n",
    "        elif visited[x][y] and unique:\n",
    "            return 0\n",
    "        elif (current_height != -1and (grid[x][y] - current_height) != 1):\n",
    "            return 0\n",
    "        visited[x][y] = True\n",
    "        if grid[x][y] == 9:\n",
    "            return 1\n",
    "        count = 0\n",
    "        for dx, dy in directions:\n",
    "            count += dfs(x + dx, y + dy, grid[x][y])\n",
    "        return count\n",
    "\n",
    "    count = 0\n",
    "    for i in range(h):\n",
    "        for j in range(w):\n",
    "            if grid[i][j] == 0:\n",
    "                visited = [[False] * w for _ in range(h)]\n",
    "                currentcount = dfs(i, j, -1 )\n",
    "                count += currentcount\n",
    "                \n",
    "    return count\n",
    "\n",
    "with open('input.txt') as f:\n",
    "    temp = [list(map(int, x)) for x in f.read().splitlines()]\n",
    "            \n",
    "print(\"Part1 = \", count_nines(temp, True))   \n",
    "print(\"Part2 = \",count_nines(temp, False))    "
   ]
  }
 ],
 "metadata": {
  "kernelspec": {
   "display_name": "Python 3",
   "language": "python",
   "name": "python3"
  },
  "language_info": {
   "codemirror_mode": {
    "name": "ipython",
    "version": 3
   },
   "file_extension": ".py",
   "mimetype": "text/x-python",
   "name": "python",
   "nbconvert_exporter": "python",
   "pygments_lexer": "ipython3",
   "version": "3.6.2"
  }
 },
 "nbformat": 4,
 "nbformat_minor": 2
}
