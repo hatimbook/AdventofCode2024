{
 "cells": [
  {
   "cell_type": "code",
   "execution_count": 6,
   "metadata": {},
   "outputs": [
    {
     "name": "stdout",
     "output_type": "stream",
     "text": [
      "Part1 =  3245122495150\n",
      "Part2 =  105517128211543\n",
      "Wall time: 31.5 s\n"
     ]
    }
   ],
   "source": [
    "%%time\n",
    "from itertools import product\n",
    "\n",
    "def generate_permutations(s, length):\n",
    "    return [''.join(p) for p in product(s, repeat=length)]\n",
    "\n",
    "def calculate(nums, ops):\n",
    "    s = nums[0]\n",
    "    for i in range(len(ops)):\n",
    "        if(ops[i] == '|'):\n",
    "            s = int(str(s) + str(nums[i+1]))\n",
    "        elif(ops[i] == '+'):\n",
    "            s = s + nums[i+1]\n",
    "        elif(ops[i] == '*'):\n",
    "            s = s * nums[i+1]\n",
    "    return s\n",
    "\n",
    "with open('input.txt') as f:\n",
    "    temp = [x.split(':') for x in f.read().splitlines()]\n",
    "\n",
    "totsum = 0\n",
    "totsum2 = 0\n",
    "\n",
    "for result, expression in temp:\n",
    "    nums = list(map(int, expression.strip().split(' ')))\n",
    "    length = len(nums) - 1\n",
    "    result = int(result)\n",
    "    \n",
    "    calfound = False\n",
    "    \n",
    "    for ops in generate_permutations('*', length):\n",
    "            if result == calculate(nums, ops):\n",
    "                totsum += result\n",
    "                calfound = True\n",
    "                break\n",
    "    \n",
    "    if not calfound:\n",
    "        for ops in generate_permutations('*+', length):\n",
    "            if '+' in ops and result == calculate(nums, ops):\n",
    "                    totsum += result\n",
    "                    calfound = True\n",
    "                    break\n",
    "\n",
    "    if not calfound:\n",
    "        for ops in generate_permutations('*+|', length):\n",
    "            if '|' in ops and result == calculate(nums, ops):\n",
    "                    totsum2 += result\n",
    "                    break\n",
    "\n",
    "print(\"Part1 = \",totsum)        \n",
    "print(\"Part2 = \", totsum + totsum2)"
   ]
  },
  {
   "cell_type": "code",
   "execution_count": 1,
   "metadata": {
    "collapsed": true
   },
   "outputs": [],
   "source": [
    "\n",
    "\n",
    "\n"
   ]
  },
  {
   "cell_type": "code",
   "execution_count": 2,
   "metadata": {
    "collapsed": true
   },
   "outputs": [],
   "source": []
  },
  {
   "cell_type": "code",
   "execution_count": null,
   "metadata": {
    "collapsed": true
   },
   "outputs": [],
   "source": []
  }
 ],
 "metadata": {
  "kernelspec": {
   "display_name": "Python 3",
   "language": "python",
   "name": "python3"
  },
  "language_info": {
   "codemirror_mode": {
    "name": "ipython",
    "version": 3
   },
   "file_extension": ".py",
   "mimetype": "text/x-python",
   "name": "python",
   "nbconvert_exporter": "python",
   "pygments_lexer": "ipython3",
   "version": "3.6.2"
  }
 },
 "nbformat": 4,
 "nbformat_minor": 2
}
