{
 "cells": [
  {
   "cell_type": "code",
   "execution_count": null,
   "metadata": {},
   "outputs": [],
   "source": [
    "%%time\n",
    "import numpy as np\n",
    "with open('input.txt') as f:\n",
    "    temp = f.read().splitlines()\n",
    "a = np.array([int(x.split()[0]) for x in temp])\n",
    "b = np.array([int(x.split()[1]) for x in temp])\n",
    "a.sort()\n",
    "b.sort()\n",
    "result = sum(np.absolute(a - b))\n",
    "print(\"Part1 =\", result)\n",
    "\n",
    "result =  sum([x * sum(b == x) for x in a])\n",
    "    \n",
    "print(\"Part2 =\", result)"
   ]
  }
 ],
 "metadata": {
  "kernelspec": {
   "display_name": "Python 3",
   "language": "python",
   "name": "python3"
  },
  "language_info": {
   "codemirror_mode": {
    "name": "ipython",
    "version": 3
   },
   "file_extension": ".py",
   "mimetype": "text/x-python",
   "name": "python",
   "nbconvert_exporter": "python",
   "pygments_lexer": "ipython3",
   "version": "3.6.2"
  }
 },
 "nbformat": 4,
 "nbformat_minor": 2
}
