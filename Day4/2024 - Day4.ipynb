{
 "cells": [
  {
   "cell_type": "code",
   "execution_count": null,
   "metadata": {},
   "outputs": [],
   "source": [
    "import numpy as np\n",
    "with open('input.txt') as f:\n",
    "    temp = f.read().splitlines()\n",
    "    \n",
    "h = len(temp) - 1\n",
    "w = len(temp[0]) - 1\n",
    "#print(h,w)\n",
    "\n",
    "count = 0;\n",
    "count2 = 0;\n",
    "for row in range(h+1):\n",
    "    for col in range(w+1):\n",
    "        if temp[row][col] == 'X':\n",
    "            #print(\"Found X at:\", row, col)\n",
    "            count += searchxmas(row, col)\n",
    "        if temp[row][col] == 'A':\n",
    "            count2 += searchmas(row, col)\n",
    "            #print(\"Found A at:\", row, col)\n",
    "print(\"Part1:\", count)\n",
    "print(\"Part2:\", count2)"
   ]
  },
  {
   "cell_type": "code",
   "execution_count": null,
   "metadata": {
    "collapsed": true
   },
   "outputs": [],
   "source": [
    "def searchxmas(r, c):\n",
    "    global temp\n",
    "    lc = 0\n",
    "    #print(r,c)\n",
    "    # up and diagonal up\n",
    "    if r > 2:\n",
    "        if temp[r-1][c] == 'M' and temp[r-2][c] == 'A' and temp[r-3][c] == 'S':\n",
    "            lc += 1\n",
    "            #print(\"Up:\", r,c)\n",
    "        if c > 2:\n",
    "            if temp[r-1][c-1] == 'M' and temp[r-2][c-2] == 'A' and temp[r-3][c-3] == 'S':\n",
    "                lc += 1\n",
    "                #print(\"Diag Up Left:\", r,c)\n",
    "        if c + 2 < w:\n",
    "            if temp[r-1][c+1] == 'M' and temp[r-2][c+2] == 'A' and temp[r-3][c+3] == 'S':\n",
    "                lc += 1\n",
    "                #print(\"Diag Up Right:\", r,c)\n",
    "    # down and diagonal down\n",
    "    if r + 2 < h:\n",
    "        if temp[r+1][c] == 'M' and temp[r+2][c] == 'A' and temp[r+3][c] == 'S':\n",
    "            lc += 1\n",
    "            #print(\"Down:\", r,c)\n",
    "        if c > 2:\n",
    "            if temp[r+1][c-1] == 'M' and temp[r+2][c-2] == 'A' and temp[r+3][c-3] == 'S':\n",
    "                lc += 1\n",
    "                #print(\"Diag Down Left:\", r,c)\n",
    "        if c + 2 < w:\n",
    "            if temp[r+1][c+1] == 'M' and temp[r+2][c+2] == 'A' and temp[r+3][c+3] == 'S':\n",
    "                lc += 1\n",
    "                #print(\"Diag Down Right:\", r,c)\n",
    "    # left\n",
    "    if c > 2:\n",
    "        if temp[r][c-1] == 'M' and temp[r][c-2] == 'A' and temp[r][c-3] == 'S':\n",
    "            lc += 1\n",
    "            #print(\"Left:\", r,c)\n",
    "    \n",
    "    #right\n",
    "    if c + 2 < w:\n",
    "        if temp[r][c+1] == 'M' and temp[r][c+2] == 'A' and temp[r][c+3] == 'S':\n",
    "            lc += 1\n",
    "            #print(\"Right:\", r,c)\n",
    "    \n",
    "    \n",
    "    return lc"
   ]
  },
  {
   "cell_type": "code",
   "execution_count": null,
   "metadata": {
    "collapsed": true
   },
   "outputs": [],
   "source": [
    "def searchmas(r, c):\n",
    "    global temp\n",
    "    lc = 0\n",
    "    if r > 0 and c > 0 and r < h and c < w:\n",
    "        if temp[r-1][c-1] == 'M' and temp[r-1][c+1] == 'S' and temp[r+1][c-1] == 'M' and temp[r+1][c+1] == 'S':\n",
    "            lc += 1\n",
    "            #print(\"Found XMAS:\", r,c)\n",
    "            \n",
    "        if temp[r-1][c-1] == 'S' and temp[r-1][c+1] == 'M' and temp[r+1][c-1] == 'S' and temp[r+1][c+1] == 'M':\n",
    "            lc += 1\n",
    "            #print(\"Found XMAS:\", r,c)\n",
    "        \n",
    "        if temp[r-1][c-1] == 'M' and temp[r-1][c+1] == 'M' and temp[r+1][c-1] == 'S' and temp[r+1][c+1] == 'S':\n",
    "            lc += 1\n",
    "            #print(\"Found XMAS:\", r,c)\n",
    "            \n",
    "        if temp[r-1][c-1] == 'S' and temp[r-1][c+1] == 'S' and temp[r+1][c-1] == 'M' and temp[r+1][c+1] == 'M':\n",
    "            lc += 1\n",
    "            #print(\"Found XMAS:\", r,c)\n",
    "    return lc"
   ]
  },
  {
   "cell_type": "code",
   "execution_count": null,
   "metadata": {
    "collapsed": true
   },
   "outputs": [],
   "source": []
  }
 ],
 "metadata": {
  "kernelspec": {
   "display_name": "Python 3",
   "language": "python",
   "name": "python3"
  },
  "language_info": {
   "codemirror_mode": {
    "name": "ipython",
    "version": 3
   },
   "file_extension": ".py",
   "mimetype": "text/x-python",
   "name": "python",
   "nbconvert_exporter": "python",
   "pygments_lexer": "ipython3",
   "version": "3.6.2"
  }
 },
 "nbformat": 4,
 "nbformat_minor": 2
}
