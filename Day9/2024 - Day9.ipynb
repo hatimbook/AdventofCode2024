{
 "cells": [
  {
   "cell_type": "code",
   "execution_count": 77,
   "metadata": {},
   "outputs": [
    {
     "name": "stdout",
     "output_type": "stream",
     "text": [
      "Part1 =  6398608069280\n",
      "Part2 =  6427437134372\n",
      "Wall time: 42.9 s\n"
     ]
    }
   ],
   "source": [
    "%%time\n",
    "from collections import deque\n",
    "\n",
    "with open('input.txt') as f:\n",
    "    temp = list(map(int,f.read().rstrip('\\n')))\n",
    "    \n",
    "files, free_spaces = temp[::2], temp[1::2]\n",
    "free_spaces.append(0)\n",
    "\n",
    "filesystem=[]\n",
    "fileinfo = {}\n",
    "\n",
    "for idx, size in enumerate(files):\n",
    "    fileinfo[idx] = {\"start\": len(filesystem), \"length\": size}\n",
    "    filesystem.extend([str(idx)] * size) \n",
    "    filesystem.extend(['.'] * free_spaces[idx])\n",
    "\n",
    "filesystem_q = deque(filesystem)\n",
    "while True:\n",
    "    try:\n",
    "        dotindex = filesystem_q.index('.')\n",
    "    except ValueError:\n",
    "        break\n",
    "    try:\n",
    "        right_block = filesystem_q.pop()\n",
    "        while right_block == '.':\n",
    "            right_block = filesystem_q.pop()\n",
    "        filesystem_q[dotindex] = right_block\n",
    "    except IndexError:\n",
    "        filesystem_q.append(right_block)\n",
    "        break\n",
    "        \n",
    "checksum_p1 = sum(i * int(block) for i, block in enumerate(list(filesystem_q)) if block != '.')\n",
    "\n",
    "for file in sorted(fileinfo.keys(), reverse=True):\n",
    "        f_length, f_start = fileinfo[file][\"length\"], fileinfo[file][\"start\"]\n",
    "        target_start = None\n",
    "        for i in range(f_start):\n",
    "            if filesystem[i] == '.':\n",
    "                if segment_start is None:\n",
    "                    segment_start = i\n",
    "                count += 1\n",
    "                if count == f_length:\n",
    "                    target_start = segment_start\n",
    "                    break\n",
    "            else:\n",
    "                count, segment_start = 0, None\n",
    "        \n",
    "        if target_start is not None:\n",
    "            filesystem[f_start: f_start + f_length] = ['.'] * f_length\n",
    "            filesystem[target_start: target_start + f_length] = [file] * f_length\n",
    "\n",
    "checksum_p2 = sum(i * int(block) for i, block in enumerate(filesystem) if block != '.')\n",
    "                \n",
    "print(\"Part1 = \", checksum_p1)\n",
    "print(\"Part2 = \", checksum_p2)"
   ]
  },
  {
   "cell_type": "code",
   "execution_count": null,
   "metadata": {
    "collapsed": true
   },
   "outputs": [],
   "source": []
  }
 ],
 "metadata": {
  "kernelspec": {
   "display_name": "Python 3",
   "language": "python",
   "name": "python3"
  },
  "language_info": {
   "codemirror_mode": {
    "name": "ipython",
    "version": 3
   },
   "file_extension": ".py",
   "mimetype": "text/x-python",
   "name": "python",
   "nbconvert_exporter": "python",
   "pygments_lexer": "ipython3",
   "version": "3.6.2"
  }
 },
 "nbformat": 4,
 "nbformat_minor": 2
}
