{
 "cells": [
  {
   "cell_type": "code",
   "execution_count": null,
   "metadata": {},
   "outputs": [],
   "source": [
    "%%time\n",
    "import numpy as np\n",
    "with open('input.txt') as f:\n",
    "    rules, reports = f.read().split('\\n\\n')\n",
    "    rules = np.array([x.split('|') for x in rules.split('\\n')], dtype=int)\n",
    "    reports = [x.split(',') for x in reports.splitlines()]\n",
    "sum1 = 0    \n",
    "sum2 = 0\n",
    "for rep in reports:\n",
    "    r = list(map(int, rep))\n",
    "    app_rules = select_rules(r)\n",
    "    c, swapped = correct_rules(r, app_rules)\n",
    "    if(swapped):\n",
    "        while(swapped):\n",
    "            c,swapped = correct_rules(c, app_rules)\n",
    "        sum2 += int(c[int((len(c) - 1)/2)])\n",
    "    else:\n",
    "        sum1 += int(r[int((len(r) - 1)/2)])\n",
    "            \n",
    "    \n",
    "print(\"Part1:\", sum1)\n",
    "print(\"Part2:\", sum2)\n"
   ]
  },
  {
   "cell_type": "code",
   "execution_count": null,
   "metadata": {
    "collapsed": true
   },
   "outputs": [],
   "source": [
    "def correct_rules(r, app_rules):\n",
    "    swapped = False\n",
    "    for rule in app_rules:\n",
    "        idx1 = r.index(rule[0])\n",
    "        idx2 = r.index(rule[1])\n",
    "        if idx1 > idx2:\n",
    "            temp = r[idx1]\n",
    "            r[idx1] = r[idx2]\n",
    "            r[idx2] = temp\n",
    "            swapped = True\n",
    "    return r, swapped"
   ]
  },
  {
   "cell_type": "code",
   "execution_count": null,
   "metadata": {
    "collapsed": true
   },
   "outputs": [],
   "source": [
    "def select_rules(r):\n",
    "    sr = []\n",
    "    for rule in rules:\n",
    "        if rule[0] in r and rule[1] in r:\n",
    "            sr.append(rule)        \n",
    "    return sr"
   ]
  }
 ],
 "metadata": {
  "kernelspec": {
   "display_name": "Python 3",
   "language": "python",
   "name": "python3"
  },
  "language_info": {
   "codemirror_mode": {
    "name": "ipython",
    "version": 3
   },
   "file_extension": ".py",
   "mimetype": "text/x-python",
   "name": "python",
   "nbconvert_exporter": "python",
   "pygments_lexer": "ipython3",
   "version": "3.6.2"
  }
 },
 "nbformat": 4,
 "nbformat_minor": 2
}
