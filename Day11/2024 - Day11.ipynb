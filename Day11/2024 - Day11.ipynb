{
 "cells": [
  {
   "cell_type": "code",
   "execution_count": null,
   "metadata": {},
   "outputs": [],
   "source": [
    "%%time\n",
    "\n",
    "from collections import defaultdict\n",
    "\n",
    "with open('input.txt') as f:\n",
    "    temp = f.read().strip().split()\n",
    "    \n",
    "stones = defaultdict(int)\n",
    "\n",
    "for stone in temp:\n",
    "    stones[stone] = 1\n",
    "\n",
    "for i in range(0, 75):\n",
    "    new_stones = defaultdict(int)\n",
    "    for (key, value) in stones.items():\n",
    "        if key == \"0\":\n",
    "            new_stones[\"1\"] += value\n",
    "        elif len(key) % 2 == 0:\n",
    "            left = int(key[:len(key)//2])\n",
    "            right = int(key[len(key)//2:])\n",
    "            \n",
    "            new_stones[str(left)] += value\n",
    "            new_stones[str(right)] += value\n",
    "            \n",
    "        else:\n",
    "            new_stones[str(2024 * int(key))] += value\n",
    "    stones = new_stones\n",
    "    if i == 24:\n",
    "        print(\"Part1 = \", sum([value for value in stones.values()]))\n",
    "\n",
    "print(\"Part2 = \", sum([value for value in stones.values()]))\n"
   ]
  },
  {
   "cell_type": "code",
   "execution_count": null,
   "metadata": {
    "collapsed": true
   },
   "outputs": [],
   "source": []
  }
 ],
 "metadata": {
  "kernelspec": {
   "display_name": "Python 3",
   "language": "python",
   "name": "python3"
  },
  "language_info": {
   "codemirror_mode": {
    "name": "ipython",
    "version": 3
   },
   "file_extension": ".py",
   "mimetype": "text/x-python",
   "name": "python",
   "nbconvert_exporter": "python",
   "pygments_lexer": "ipython3",
   "version": "3.6.2"
  }
 },
 "nbformat": 4,
 "nbformat_minor": 2
}
