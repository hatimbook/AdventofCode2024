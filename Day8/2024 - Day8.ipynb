{
 "cells": [
  {
   "cell_type": "code",
   "execution_count": 17,
   "metadata": {},
   "outputs": [
    {
     "name": "stdout",
     "output_type": "stream",
     "text": [
      "Part1 =  254\n",
      "Part2 =  951\n"
     ]
    }
   ],
   "source": [
    "from itertools import combinations\n",
    "\n",
    "with open('input.txt') as f:\n",
    "    temp = f.read().splitlines()\n",
    "w, h = len(temp[0]), len(temp)\n",
    "ant = {}\n",
    "\n",
    "ants = set([])\n",
    "for r in range(h):\n",
    "    for c in range(w):\n",
    "        p = temp[r][c]\n",
    "        if p != '.':\n",
    "            ants.add((r,c))\n",
    "            if p in ant:\n",
    "                ant[p].append((r,c))\n",
    "            else:\n",
    "                ant[p] = [(r,c)]\n",
    "antinodes = set([])\n",
    "antinodes_2 = set([])\n",
    "single = 0\n",
    "\n",
    "for key,value in ant.items():\n",
    "    for ant_pairs in combinations(value, 2):\n",
    "        antinodes = antinodes.union(getpoints(ant_pairs[0], ant_pairs[1], w, h))\n",
    "        antinodes_2 = antinodes_2.union(getpoints_2(ant_pairs[0], ant_pairs[1], w, h))\n",
    "print(\"Part1 = \", len(antinodes))\n",
    "antinodes_2 = antinodes_2.union(ants)\n",
    "print(\"Part2 = \", len(antinodes_2))"
   ]
  },
  {
   "cell_type": "code",
   "execution_count": 16,
   "metadata": {
    "collapsed": true
   },
   "outputs": [],
   "source": [
    "import math\n",
    "def getpoints(p1, p2, w, h):\n",
    "    distance_p1_p2 = math.sqrt((p2[0] - p1[0])**2 + (p2[1] - p1[1])**2)\n",
    "    direction_vector = (p2[0] - p1[0], p2[1] - p1[1])\n",
    "    \n",
    "    magnitude = math.sqrt(direction_vector[0]**2 + direction_vector[1]**2)\n",
    "    \n",
    "    unit_vector = (direction_vector[0] / magnitude, direction_vector[1] / magnitude)\n",
    "    \n",
    "    p3 = (p2[0] + unit_vector[0] * distance_p1_p2, p2[1] + unit_vector[1] * distance_p1_p2)\n",
    "    p4 = (p1[0] - unit_vector[0] * distance_p1_p2, p1[1] - unit_vector[1] * distance_p1_p2)\n",
    "\n",
    "    antinodes = set([])\n",
    "    if 0 <= p3[0] < h and 0 <= p3[1] < w:\n",
    "        antinodes.add(p3)\n",
    "    if 0 <= p4[0] < h and 0 <= p4[1] < w:\n",
    "        antinodes.add(p4)\n",
    "    return antinodes\n",
    "\n",
    "def getpoints_2(p1, p2, w, h):\n",
    "    \n",
    "    distance_p1_p2 = math.sqrt((p2[0] - p1[0])**2 + (p2[1] - p1[1])**2)\n",
    "    direction_vector = (p2[0] - p1[0], p2[1] - p1[1])\n",
    "    \n",
    "    magnitude = math.sqrt(direction_vector[0]**2 + direction_vector[1]**2)\n",
    "    \n",
    "    unit_vector = (direction_vector[0] / magnitude, direction_vector[1] / magnitude)\n",
    "    \n",
    "    antinodes = set([])\n",
    "\n",
    "    inrange, count = True, 1\n",
    "    while inrange:\n",
    "        p3 = (round(p2[0] + count * unit_vector[0] * distance_p1_p2), round(p2[1] + count * unit_vector[1] * distance_p1_p2))\n",
    "        if 0 <= p3[0] < h and 0 <= p3[1] < w:\n",
    "            antinodes.add(p3)\n",
    "            count += 1\n",
    "        else:\n",
    "            inrange = False\n",
    "    \n",
    "    inrange, count = True, 1\n",
    "    while inrange:\n",
    "        p4 = (round(p1[0] - count * unit_vector[0] * distance_p1_p2), round(p1[1] - count * unit_vector[1] * distance_p1_p2))    \n",
    "        if 0 <= p4[0] < h and 0 <= p4[1] < w:\n",
    "            antinodes.add(p4)\n",
    "            count += 1\n",
    "        else:\n",
    "            inrange = False\n",
    "    return antinodes"
   ]
  },
  {
   "cell_type": "code",
   "execution_count": 11,
   "metadata": {
    "collapsed": true
   },
   "outputs": [],
   "source": []
  }
 ],
 "metadata": {
  "kernelspec": {
   "display_name": "Python 3",
   "language": "python",
   "name": "python3"
  },
  "language_info": {
   "codemirror_mode": {
    "name": "ipython",
    "version": 3
   },
   "file_extension": ".py",
   "mimetype": "text/x-python",
   "name": "python",
   "nbconvert_exporter": "python",
   "pygments_lexer": "ipython3",
   "version": "3.6.2"
  }
 },
 "nbformat": 4,
 "nbformat_minor": 2
}
