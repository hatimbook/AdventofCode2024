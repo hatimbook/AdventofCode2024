{
 "cells": [
  {
   "cell_type": "code",
   "execution_count": null,
   "metadata": {},
   "outputs": [],
   "source": [
    "%%time\n",
    "\n",
    "with open('input.txt') as f:\n",
    "    temp = f.read().split('\\n\\n')\n",
    "cost = 0\n",
    "cost2 = 0\n",
    "for machine in temp:\n",
    "    m = re.match(r'Button A: X\\+(\\d+), Y\\+(\\d+)\\nButton B: X\\+(\\d+), Y\\+(\\d+)\\nPrize: X=(\\d+), Y=(\\d+)',machine)\n",
    "    if m:\n",
    "        a1, b1, c1 = int(m.group(1)), int(m.group(3)), int(m.group(5))\n",
    "        a2, b2, c2 = int(m.group(2)), int(m.group(4)), int(m.group(6))\n",
    "        x, y = solve_linear_equations(a1, b1, c1, a2, b2, c2)\n",
    "        x = round_if_close(x)\n",
    "        y = round_if_close(y)\n",
    "        if x < 100 and y < 100 and is_whole_number(x) and is_whole_number(y):\n",
    "            cost += 3*x+y\n",
    "        \n",
    "        a1, b1, c1 = int(m.group(1)), int(m.group(3)), int(m.group(5)) + 10000000000000\n",
    "        a2, b2, c2 = int(m.group(2)), int(m.group(4)), int(m.group(6)) + 10000000000000\n",
    "        x, y = solve_linear_equations(a1, b1, c1, a2, b2, c2)\n",
    "        x = round_if_close(x)\n",
    "        y = round_if_close(y)\n",
    "        \n",
    "        if is_whole_number(x) and is_whole_number(y):\n",
    "            cost2 += 3*x + y\n",
    "\n",
    "    else:\n",
    "        print(\"Match Failed\")\n",
    "print(\"Part1 = \", \"{:.0f}\".format(cost))\n",
    "print(\"Part2 = \", \"{:.0f}\".format(cost2))"
   ]
  },
  {
   "cell_type": "code",
   "execution_count": null,
   "metadata": {
    "collapsed": true
   },
   "outputs": [],
   "source": [
    "import numpy as np\n",
    "\n",
    "def solve_linear_equations(a1, b1, c1, a2, b2, c2):\n",
    "    A = np.array([[a1, b1], [a2, b2]])\n",
    "    B = np.array([c1, c2])\n",
    "    solution = np.linalg.solve(A, B)  \n",
    "    return solution\n",
    "\n",
    "def round_if_close(value, tolerance=1e-3):\n",
    "    if abs(value - round(value)) < tolerance:\n",
    "        return round(value)\n",
    "    return value\n",
    "\n",
    "def is_whole_number(value):\n",
    "    return value == int(value)"
   ]
  },
  {
   "cell_type": "code",
   "execution_count": null,
   "metadata": {
    "collapsed": true
   },
   "outputs": [],
   "source": [
    "\n"
   ]
  }
 ],
 "metadata": {
  "kernelspec": {
   "display_name": "Python 3",
   "language": "python",
   "name": "python3"
  },
  "language_info": {
   "codemirror_mode": {
    "name": "ipython",
    "version": 3
   },
   "file_extension": ".py",
   "mimetype": "text/x-python",
   "name": "python",
   "nbconvert_exporter": "python",
   "pygments_lexer": "ipython3",
   "version": "3.6.2"
  }
 },
 "nbformat": 4,
 "nbformat_minor": 2
}
