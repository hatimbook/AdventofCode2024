{
 "cells": [
  {
   "cell_type": "code",
   "execution_count": null,
   "metadata": {},
   "outputs": [],
   "source": [
    "%%time\n",
    "import numpy as np\n",
    "import re\n",
    "with open('input.txt') as f:\n",
    "    temp = f.read()\n",
    "\n",
    "print(\"Part1 = \", find_mul(temp))\n",
    "\n",
    "a = temp.split(\"don't()\")\n",
    "new = a[0]\n",
    "for index in range(1, len(a)):\n",
    "    t = a[index].split(\"do()\")\n",
    "    new += \"\".join([str(item) for item in t[1:]])\n",
    "    \n",
    "print(\"Part2 = \", find_mul(new))"
   ]
  },
  {
   "cell_type": "code",
   "execution_count": null,
   "metadata": {
    "collapsed": true
   },
   "outputs": [],
   "source": [
    "def find_mul(s):\n",
    "    x = re.findall(\"mul\\((\\d{1,3}),(\\d{1,3})\\)\", s)\n",
    "    return sum([int(a[0]) * int(a[1]) for a in x])"
   ]
  }
 ],
 "metadata": {
  "kernelspec": {
   "display_name": "Python 3",
   "language": "python",
   "name": "python3"
  },
  "language_info": {
   "codemirror_mode": {
    "name": "ipython",
    "version": 3
   },
   "file_extension": ".py",
   "mimetype": "text/x-python",
   "name": "python",
   "nbconvert_exporter": "python",
   "pygments_lexer": "ipython3",
   "version": "3.6.2"
  }
 },
 "nbformat": 4,
 "nbformat_minor": 2
}
